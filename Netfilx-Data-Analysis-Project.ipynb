{
 "cells": [
  {
   "cell_type": "markdown",
   "id": "b6b2b854",
   "metadata": {},
   "source": [
    "<img src='https://torranceca.files.wordpress.com/2019/10/netflix.jpg' alt=\"Alt Text\" height=\"200\">\n"
   ]
  },
  {
   "cell_type": "markdown",
   "id": "c0a93461",
   "metadata": {},
   "source": [
    "# Netflix Movies and TV Shows Data Analysis"
   ]
  },
  {
   "cell_type": "markdown",
   "id": "a2050d92",
   "metadata": {},
   "source": [
    "### Imported necessary libraries"
   ]
  },
  {
   "cell_type": "code",
   "execution_count": 1,
   "id": "07e59251",
   "metadata": {},
   "outputs": [],
   "source": [
    "import pandas as pd\n",
    "import numpy as np\n",
    "import matplotlib.pyplot as plt \n",
    "%matplotlib inline \n",
    "import seaborn as sns"
   ]
  },
  {
   "cell_type": "markdown",
   "id": "41b22eb1",
   "metadata": {},
   "source": [
    "### Read dataset in csv file"
   ]
  },
  {
   "cell_type": "code",
   "execution_count": 2,
   "id": "f862bf4f",
   "metadata": {},
   "outputs": [
    {
     "data": {
      "text/html": [
       "<div>\n",
       "<style scoped>\n",
       "    .dataframe tbody tr th:only-of-type {\n",
       "        vertical-align: middle;\n",
       "    }\n",
       "\n",
       "    .dataframe tbody tr th {\n",
       "        vertical-align: top;\n",
       "    }\n",
       "\n",
       "    .dataframe thead th {\n",
       "        text-align: right;\n",
       "    }\n",
       "</style>\n",
       "<table border=\"1\" class=\"dataframe\">\n",
       "  <thead>\n",
       "    <tr style=\"text-align: right;\">\n",
       "      <th></th>\n",
       "      <th>show_id</th>\n",
       "      <th>type</th>\n",
       "      <th>title</th>\n",
       "      <th>director</th>\n",
       "      <th>cast</th>\n",
       "      <th>country</th>\n",
       "      <th>date_added</th>\n",
       "      <th>release_year</th>\n",
       "      <th>rating</th>\n",
       "      <th>duration</th>\n",
       "      <th>listed_in</th>\n",
       "      <th>description</th>\n",
       "    </tr>\n",
       "  </thead>\n",
       "  <tbody>\n",
       "    <tr>\n",
       "      <th>0</th>\n",
       "      <td>s1</td>\n",
       "      <td>Movie</td>\n",
       "      <td>Dick Johnson Is Dead</td>\n",
       "      <td>Kirsten Johnson</td>\n",
       "      <td>NaN</td>\n",
       "      <td>United States</td>\n",
       "      <td>September 25, 2021</td>\n",
       "      <td>2020</td>\n",
       "      <td>PG-13</td>\n",
       "      <td>90 min</td>\n",
       "      <td>Documentaries</td>\n",
       "      <td>As her father nears the end of his life, filmm...</td>\n",
       "    </tr>\n",
       "    <tr>\n",
       "      <th>1</th>\n",
       "      <td>s2</td>\n",
       "      <td>TV Show</td>\n",
       "      <td>Blood &amp; Water</td>\n",
       "      <td>NaN</td>\n",
       "      <td>Ama Qamata, Khosi Ngema, Gail Mabalane, Thaban...</td>\n",
       "      <td>South Africa</td>\n",
       "      <td>September 24, 2021</td>\n",
       "      <td>2021</td>\n",
       "      <td>TV-MA</td>\n",
       "      <td>2 Seasons</td>\n",
       "      <td>International TV Shows, TV Dramas, TV Mysteries</td>\n",
       "      <td>After crossing paths at a party, a Cape Town t...</td>\n",
       "    </tr>\n",
       "    <tr>\n",
       "      <th>2</th>\n",
       "      <td>s3</td>\n",
       "      <td>TV Show</td>\n",
       "      <td>Ganglands</td>\n",
       "      <td>Julien Leclercq</td>\n",
       "      <td>Sami Bouajila, Tracy Gotoas, Samuel Jouy, Nabi...</td>\n",
       "      <td>NaN</td>\n",
       "      <td>September 24, 2021</td>\n",
       "      <td>2021</td>\n",
       "      <td>TV-MA</td>\n",
       "      <td>1 Season</td>\n",
       "      <td>Crime TV Shows, International TV Shows, TV Act...</td>\n",
       "      <td>To protect his family from a powerful drug lor...</td>\n",
       "    </tr>\n",
       "    <tr>\n",
       "      <th>3</th>\n",
       "      <td>s4</td>\n",
       "      <td>TV Show</td>\n",
       "      <td>Jailbirds New Orleans</td>\n",
       "      <td>NaN</td>\n",
       "      <td>NaN</td>\n",
       "      <td>NaN</td>\n",
       "      <td>September 24, 2021</td>\n",
       "      <td>2021</td>\n",
       "      <td>TV-MA</td>\n",
       "      <td>1 Season</td>\n",
       "      <td>Docuseries, Reality TV</td>\n",
       "      <td>Feuds, flirtations and toilet talk go down amo...</td>\n",
       "    </tr>\n",
       "    <tr>\n",
       "      <th>4</th>\n",
       "      <td>s5</td>\n",
       "      <td>TV Show</td>\n",
       "      <td>Kota Factory</td>\n",
       "      <td>NaN</td>\n",
       "      <td>Mayur More, Jitendra Kumar, Ranjan Raj, Alam K...</td>\n",
       "      <td>India</td>\n",
       "      <td>September 24, 2021</td>\n",
       "      <td>2021</td>\n",
       "      <td>TV-MA</td>\n",
       "      <td>2 Seasons</td>\n",
       "      <td>International TV Shows, Romantic TV Shows, TV ...</td>\n",
       "      <td>In a city of coaching centers known to train I...</td>\n",
       "    </tr>\n",
       "  </tbody>\n",
       "</table>\n",
       "</div>"
      ],
      "text/plain": [
       "  show_id     type                  title         director  \\\n",
       "0      s1    Movie   Dick Johnson Is Dead  Kirsten Johnson   \n",
       "1      s2  TV Show          Blood & Water              NaN   \n",
       "2      s3  TV Show              Ganglands  Julien Leclercq   \n",
       "3      s4  TV Show  Jailbirds New Orleans              NaN   \n",
       "4      s5  TV Show           Kota Factory              NaN   \n",
       "\n",
       "                                                cast        country  \\\n",
       "0                                                NaN  United States   \n",
       "1  Ama Qamata, Khosi Ngema, Gail Mabalane, Thaban...   South Africa   \n",
       "2  Sami Bouajila, Tracy Gotoas, Samuel Jouy, Nabi...            NaN   \n",
       "3                                                NaN            NaN   \n",
       "4  Mayur More, Jitendra Kumar, Ranjan Raj, Alam K...          India   \n",
       "\n",
       "           date_added  release_year rating   duration  \\\n",
       "0  September 25, 2021          2020  PG-13     90 min   \n",
       "1  September 24, 2021          2021  TV-MA  2 Seasons   \n",
       "2  September 24, 2021          2021  TV-MA   1 Season   \n",
       "3  September 24, 2021          2021  TV-MA   1 Season   \n",
       "4  September 24, 2021          2021  TV-MA  2 Seasons   \n",
       "\n",
       "                                           listed_in  \\\n",
       "0                                      Documentaries   \n",
       "1    International TV Shows, TV Dramas, TV Mysteries   \n",
       "2  Crime TV Shows, International TV Shows, TV Act...   \n",
       "3                             Docuseries, Reality TV   \n",
       "4  International TV Shows, Romantic TV Shows, TV ...   \n",
       "\n",
       "                                         description  \n",
       "0  As her father nears the end of his life, filmm...  \n",
       "1  After crossing paths at a party, a Cape Town t...  \n",
       "2  To protect his family from a powerful drug lor...  \n",
       "3  Feuds, flirtations and toilet talk go down amo...  \n",
       "4  In a city of coaching centers known to train I...  "
      ]
     },
     "execution_count": 2,
     "metadata": {},
     "output_type": "execute_result"
    }
   ],
   "source": [
    "#import dataset\n",
    "df = pd.read_csv('C:\\\\Users\\\\rm217\\\\OneDrive\\\\Desktop\\\\Data Analyst Projects\\\\Netflix-Data-Analysis-Python-Project\\\\netflix_titles.csv')\n",
    "\n",
    "#To display the basic information\n",
    "df.head()"
   ]
  },
  {
   "cell_type": "code",
   "execution_count": 3,
   "id": "33baa36a",
   "metadata": {},
   "outputs": [
    {
     "data": {
      "text/plain": [
       "(8807, 12)"
      ]
     },
     "execution_count": 3,
     "metadata": {},
     "output_type": "execute_result"
    }
   ],
   "source": [
    "#To check the number of rows and columns\n",
    "df.shape"
   ]
  },
  {
   "cell_type": "code",
   "execution_count": 4,
   "id": "bec745d2",
   "metadata": {},
   "outputs": [
    {
     "data": {
      "text/plain": [
       "Index(['show_id', 'type', 'title', 'director', 'cast', 'country', 'date_added',\n",
       "       'release_year', 'rating', 'duration', 'listed_in', 'description'],\n",
       "      dtype='object')"
      ]
     },
     "execution_count": 4,
     "metadata": {},
     "output_type": "execute_result"
    }
   ],
   "source": [
    "#To display the all the columns\n",
    "df.columns"
   ]
  },
  {
   "cell_type": "code",
   "execution_count": 5,
   "id": "5f5c1b90",
   "metadata": {},
   "outputs": [
    {
     "data": {
      "text/plain": [
       "show_id         object\n",
       "type            object\n",
       "title           object\n",
       "director        object\n",
       "cast            object\n",
       "country         object\n",
       "date_added      object\n",
       "release_year     int64\n",
       "rating          object\n",
       "duration        object\n",
       "listed_in       object\n",
       "description     object\n",
       "dtype: object"
      ]
     },
     "execution_count": 5,
     "metadata": {},
     "output_type": "execute_result"
    }
   ],
   "source": [
    "#To display the datatypes of each columns\n",
    "df.dtypes"
   ]
  },
  {
   "cell_type": "code",
   "execution_count": 6,
   "id": "66a2cba7",
   "metadata": {},
   "outputs": [
    {
     "name": "stdout",
     "output_type": "stream",
     "text": [
      "<class 'pandas.core.frame.DataFrame'>\n",
      "RangeIndex: 8807 entries, 0 to 8806\n",
      "Data columns (total 12 columns):\n",
      " #   Column        Non-Null Count  Dtype \n",
      "---  ------        --------------  ----- \n",
      " 0   show_id       8807 non-null   object\n",
      " 1   type          8807 non-null   object\n",
      " 2   title         8807 non-null   object\n",
      " 3   director      6173 non-null   object\n",
      " 4   cast          7982 non-null   object\n",
      " 5   country       7976 non-null   object\n",
      " 6   date_added    8797 non-null   object\n",
      " 7   release_year  8807 non-null   int64 \n",
      " 8   rating        8803 non-null   object\n",
      " 9   duration      8804 non-null   object\n",
      " 10  listed_in     8807 non-null   object\n",
      " 11  description   8807 non-null   object\n",
      "dtypes: int64(1), object(11)\n",
      "memory usage: 825.8+ KB\n"
     ]
    }
   ],
   "source": [
    "#To display the basic information about dataset\n",
    "df.info()"
   ]
  },
  {
   "cell_type": "markdown",
   "id": "0a2d809f",
   "metadata": {},
   "source": [
    "## Data Processing"
   ]
  },
  {
   "cell_type": "markdown",
   "id": "f60c2ac2",
   "metadata": {},
   "source": [
    "### Identify and handle the missing values"
   ]
  },
  {
   "cell_type": "code",
   "execution_count": 7,
   "id": "d80ac5af",
   "metadata": {},
   "outputs": [
    {
     "data": {
      "text/plain": [
       "show_id            0\n",
       "type               0\n",
       "title              0\n",
       "director        2634\n",
       "cast             825\n",
       "country          831\n",
       "date_added        10\n",
       "release_year       0\n",
       "rating             4\n",
       "duration           3\n",
       "listed_in          0\n",
       "description        0\n",
       "dtype: int64"
      ]
     },
     "execution_count": 7,
     "metadata": {},
     "output_type": "execute_result"
    }
   ],
   "source": [
    "#Count missing values in each columns\n",
    "df.isnull().sum()"
   ]
  },
  {
   "cell_type": "markdown",
   "id": "1afb0211",
   "metadata": {},
   "source": [
    "#### Replace the null values as Not Specified in director, cast and country columns"
   ]
  },
  {
   "cell_type": "code",
   "execution_count": 8,
   "id": "ff80f2b3",
   "metadata": {},
   "outputs": [
    {
     "data": {
      "text/plain": [
       "show_id          0\n",
       "type             0\n",
       "title            0\n",
       "director         0\n",
       "cast             0\n",
       "country          0\n",
       "date_added      10\n",
       "release_year     0\n",
       "rating           4\n",
       "duration         3\n",
       "listed_in        0\n",
       "description      0\n",
       "dtype: int64"
      ]
     },
     "execution_count": 8,
     "metadata": {},
     "output_type": "execute_result"
    }
   ],
   "source": [
    "df.fillna({'director': 'Not Specified', 'cast': 'Not Specified', 'country': 'Not Specified'}, inplace = True)\n",
    "df.isnull().sum()"
   ]
  },
  {
   "cell_type": "markdown",
   "id": "ad91084d",
   "metadata": {},
   "source": [
    "*As we have just few null values in date_added, rating and duration columns so let's delete the null values instead of replacing*"
   ]
  },
  {
   "cell_type": "code",
   "execution_count": 9,
   "id": "3168978e",
   "metadata": {},
   "outputs": [],
   "source": [
    "df.dropna(inplace = True)"
   ]
  },
  {
   "cell_type": "markdown",
   "id": "0709ce2b",
   "metadata": {},
   "source": [
    "#### Identify the duplicate records and remove duplicate records if any exist "
   ]
  },
  {
   "cell_type": "code",
   "execution_count": 10,
   "id": "be302738",
   "metadata": {},
   "outputs": [
    {
     "data": {
      "text/html": [
       "<div>\n",
       "<style scoped>\n",
       "    .dataframe tbody tr th:only-of-type {\n",
       "        vertical-align: middle;\n",
       "    }\n",
       "\n",
       "    .dataframe tbody tr th {\n",
       "        vertical-align: top;\n",
       "    }\n",
       "\n",
       "    .dataframe thead th {\n",
       "        text-align: right;\n",
       "    }\n",
       "</style>\n",
       "<table border=\"1\" class=\"dataframe\">\n",
       "  <thead>\n",
       "    <tr style=\"text-align: right;\">\n",
       "      <th></th>\n",
       "      <th>show_id</th>\n",
       "      <th>type</th>\n",
       "      <th>title</th>\n",
       "      <th>director</th>\n",
       "      <th>cast</th>\n",
       "      <th>country</th>\n",
       "      <th>date_added</th>\n",
       "      <th>release_year</th>\n",
       "      <th>rating</th>\n",
       "      <th>duration</th>\n",
       "      <th>listed_in</th>\n",
       "      <th>description</th>\n",
       "    </tr>\n",
       "  </thead>\n",
       "  <tbody>\n",
       "  </tbody>\n",
       "</table>\n",
       "</div>"
      ],
      "text/plain": [
       "Empty DataFrame\n",
       "Columns: [show_id, type, title, director, cast, country, date_added, release_year, rating, duration, listed_in, description]\n",
       "Index: []"
      ]
     },
     "execution_count": 10,
     "metadata": {},
     "output_type": "execute_result"
    }
   ],
   "source": [
    "df[df.duplicated()]"
   ]
  },
  {
   "cell_type": "markdown",
   "id": "e84969c2",
   "metadata": {},
   "source": [
    "*We have no duplicate records in the dataset*"
   ]
  },
  {
   "cell_type": "markdown",
   "id": "b9df7f46",
   "metadata": {},
   "source": [
    "## Exploratory Data Analysis"
   ]
  },
  {
   "cell_type": "markdown",
   "id": "711ea2be",
   "metadata": {},
   "source": [
    "### Question:-1. List all the content released in a year 2010"
   ]
  },
  {
   "cell_type": "code",
   "execution_count": 11,
   "id": "d8e19a79",
   "metadata": {},
   "outputs": [
    {
     "data": {
      "text/html": [
       "<div>\n",
       "<style scoped>\n",
       "    .dataframe tbody tr th:only-of-type {\n",
       "        vertical-align: middle;\n",
       "    }\n",
       "\n",
       "    .dataframe tbody tr th {\n",
       "        vertical-align: top;\n",
       "    }\n",
       "\n",
       "    .dataframe thead th {\n",
       "        text-align: right;\n",
       "    }\n",
       "</style>\n",
       "<table border=\"1\" class=\"dataframe\">\n",
       "  <thead>\n",
       "    <tr style=\"text-align: right;\">\n",
       "      <th></th>\n",
       "      <th>show_id</th>\n",
       "      <th>type</th>\n",
       "      <th>title</th>\n",
       "      <th>director</th>\n",
       "      <th>cast</th>\n",
       "      <th>country</th>\n",
       "      <th>date_added</th>\n",
       "      <th>release_year</th>\n",
       "      <th>rating</th>\n",
       "      <th>duration</th>\n",
       "      <th>listed_in</th>\n",
       "      <th>description</th>\n",
       "    </tr>\n",
       "  </thead>\n",
       "  <tbody>\n",
       "    <tr>\n",
       "      <th>27</th>\n",
       "      <td>s28</td>\n",
       "      <td>Movie</td>\n",
       "      <td>Grown Ups</td>\n",
       "      <td>Dennis Dugan</td>\n",
       "      <td>Adam Sandler, Kevin James, Chris Rock, David S...</td>\n",
       "      <td>United States</td>\n",
       "      <td>September 20, 2021</td>\n",
       "      <td>2010</td>\n",
       "      <td>PG-13</td>\n",
       "      <td>103 min</td>\n",
       "      <td>Comedies</td>\n",
       "      <td>Mourning the loss of their beloved junior high...</td>\n",
       "    </tr>\n",
       "    <tr>\n",
       "      <th>60</th>\n",
       "      <td>s61</td>\n",
       "      <td>Movie</td>\n",
       "      <td>Naruto Shippuden: The Movie: The Lost Tower</td>\n",
       "      <td>Masahiko Murata</td>\n",
       "      <td>Junko Takeuchi, Chie Nakamura, Satoshi Hino, R...</td>\n",
       "      <td>Japan</td>\n",
       "      <td>September 15, 2021</td>\n",
       "      <td>2010</td>\n",
       "      <td>TV-14</td>\n",
       "      <td>85 min</td>\n",
       "      <td>Action &amp; Adventure, Anime Features, Internatio...</td>\n",
       "      <td>When Naruto is sent to recover a missing nin, ...</td>\n",
       "    </tr>\n",
       "  </tbody>\n",
       "</table>\n",
       "</div>"
      ],
      "text/plain": [
       "   show_id   type                                        title  \\\n",
       "27     s28  Movie                                    Grown Ups   \n",
       "60     s61  Movie  Naruto Shippuden: The Movie: The Lost Tower   \n",
       "\n",
       "           director                                               cast  \\\n",
       "27     Dennis Dugan  Adam Sandler, Kevin James, Chris Rock, David S...   \n",
       "60  Masahiko Murata  Junko Takeuchi, Chie Nakamura, Satoshi Hino, R...   \n",
       "\n",
       "          country          date_added  release_year rating duration  \\\n",
       "27  United States  September 20, 2021          2010  PG-13  103 min   \n",
       "60          Japan  September 15, 2021          2010  TV-14   85 min   \n",
       "\n",
       "                                            listed_in  \\\n",
       "27                                           Comedies   \n",
       "60  Action & Adventure, Anime Features, Internatio...   \n",
       "\n",
       "                                          description  \n",
       "27  Mourning the loss of their beloved junior high...  \n",
       "60  When Naruto is sent to recover a missing nin, ...  "
      ]
     },
     "execution_count": 11,
     "metadata": {},
     "output_type": "execute_result"
    }
   ],
   "source": [
    "content_release2010 = df[df['release_year'] == 2010]\n",
    "\n",
    "content_release2010.head(2)"
   ]
  },
  {
   "cell_type": "markdown",
   "id": "0e66b368",
   "metadata": {},
   "source": [
    "### Question:-2. List only the movies that were released in a year 2010"
   ]
  },
  {
   "cell_type": "code",
   "execution_count": 12,
   "id": "dea9bd04",
   "metadata": {},
   "outputs": [
    {
     "data": {
      "text/html": [
       "<div>\n",
       "<style scoped>\n",
       "    .dataframe tbody tr th:only-of-type {\n",
       "        vertical-align: middle;\n",
       "    }\n",
       "\n",
       "    .dataframe tbody tr th {\n",
       "        vertical-align: top;\n",
       "    }\n",
       "\n",
       "    .dataframe thead th {\n",
       "        text-align: right;\n",
       "    }\n",
       "</style>\n",
       "<table border=\"1\" class=\"dataframe\">\n",
       "  <thead>\n",
       "    <tr style=\"text-align: right;\">\n",
       "      <th></th>\n",
       "      <th>show_id</th>\n",
       "      <th>type</th>\n",
       "      <th>title</th>\n",
       "      <th>director</th>\n",
       "      <th>cast</th>\n",
       "      <th>country</th>\n",
       "      <th>date_added</th>\n",
       "      <th>release_year</th>\n",
       "      <th>rating</th>\n",
       "      <th>duration</th>\n",
       "      <th>listed_in</th>\n",
       "      <th>description</th>\n",
       "    </tr>\n",
       "  </thead>\n",
       "  <tbody>\n",
       "    <tr>\n",
       "      <th>27</th>\n",
       "      <td>s28</td>\n",
       "      <td>Movie</td>\n",
       "      <td>Grown Ups</td>\n",
       "      <td>Dennis Dugan</td>\n",
       "      <td>Adam Sandler, Kevin James, Chris Rock, David S...</td>\n",
       "      <td>United States</td>\n",
       "      <td>September 20, 2021</td>\n",
       "      <td>2010</td>\n",
       "      <td>PG-13</td>\n",
       "      <td>103 min</td>\n",
       "      <td>Comedies</td>\n",
       "      <td>Mourning the loss of their beloved junior high...</td>\n",
       "    </tr>\n",
       "    <tr>\n",
       "      <th>60</th>\n",
       "      <td>s61</td>\n",
       "      <td>Movie</td>\n",
       "      <td>Naruto Shippuden: The Movie: The Lost Tower</td>\n",
       "      <td>Masahiko Murata</td>\n",
       "      <td>Junko Takeuchi, Chie Nakamura, Satoshi Hino, R...</td>\n",
       "      <td>Japan</td>\n",
       "      <td>September 15, 2021</td>\n",
       "      <td>2010</td>\n",
       "      <td>TV-14</td>\n",
       "      <td>85 min</td>\n",
       "      <td>Action &amp; Adventure, Anime Features, Internatio...</td>\n",
       "      <td>When Naruto is sent to recover a missing nin, ...</td>\n",
       "    </tr>\n",
       "  </tbody>\n",
       "</table>\n",
       "</div>"
      ],
      "text/plain": [
       "   show_id   type                                        title  \\\n",
       "27     s28  Movie                                    Grown Ups   \n",
       "60     s61  Movie  Naruto Shippuden: The Movie: The Lost Tower   \n",
       "\n",
       "           director                                               cast  \\\n",
       "27     Dennis Dugan  Adam Sandler, Kevin James, Chris Rock, David S...   \n",
       "60  Masahiko Murata  Junko Takeuchi, Chie Nakamura, Satoshi Hino, R...   \n",
       "\n",
       "          country          date_added  release_year rating duration  \\\n",
       "27  United States  September 20, 2021          2010  PG-13  103 min   \n",
       "60          Japan  September 15, 2021          2010  TV-14   85 min   \n",
       "\n",
       "                                            listed_in  \\\n",
       "27                                           Comedies   \n",
       "60  Action & Adventure, Anime Features, Internatio...   \n",
       "\n",
       "                                          description  \n",
       "27  Mourning the loss of their beloved junior high...  \n",
       "60  When Naruto is sent to recover a missing nin, ...  "
      ]
     },
     "execution_count": 12,
     "metadata": {},
     "output_type": "execute_result"
    }
   ],
   "source": [
    "df[(df['type'] == 'Movie') & (df['release_year'] == 2010)].head(2)\n"
   ]
  },
  {
   "cell_type": "markdown",
   "id": "7123e061",
   "metadata": {},
   "source": [
    "### Question:-3. List all the movies/shows, Tom Cruise was cast ?."
   ]
  },
  {
   "cell_type": "code",
   "execution_count": 13,
   "id": "651b417f",
   "metadata": {},
   "outputs": [
    {
     "data": {
      "text/html": [
       "<div>\n",
       "<style scoped>\n",
       "    .dataframe tbody tr th:only-of-type {\n",
       "        vertical-align: middle;\n",
       "    }\n",
       "\n",
       "    .dataframe tbody tr th {\n",
       "        vertical-align: top;\n",
       "    }\n",
       "\n",
       "    .dataframe thead th {\n",
       "        text-align: right;\n",
       "    }\n",
       "</style>\n",
       "<table border=\"1\" class=\"dataframe\">\n",
       "  <thead>\n",
       "    <tr style=\"text-align: right;\">\n",
       "      <th></th>\n",
       "      <th>show_id</th>\n",
       "      <th>type</th>\n",
       "      <th>title</th>\n",
       "      <th>director</th>\n",
       "      <th>cast</th>\n",
       "      <th>country</th>\n",
       "      <th>date_added</th>\n",
       "      <th>release_year</th>\n",
       "      <th>rating</th>\n",
       "      <th>duration</th>\n",
       "      <th>listed_in</th>\n",
       "      <th>description</th>\n",
       "    </tr>\n",
       "  </thead>\n",
       "  <tbody>\n",
       "    <tr>\n",
       "      <th>341</th>\n",
       "      <td>s342</td>\n",
       "      <td>Movie</td>\n",
       "      <td>Magnolia</td>\n",
       "      <td>Paul Thomas Anderson</td>\n",
       "      <td>John C. Reilly, Philip Baker Hall, Tom Cruise,...</td>\n",
       "      <td>United States</td>\n",
       "      <td>August 1, 2021</td>\n",
       "      <td>1999</td>\n",
       "      <td>R</td>\n",
       "      <td>189 min</td>\n",
       "      <td>Dramas, Independent Movies</td>\n",
       "      <td>Through chance, history and divine interventio...</td>\n",
       "    </tr>\n",
       "    <tr>\n",
       "      <th>1254</th>\n",
       "      <td>s1255</td>\n",
       "      <td>Movie</td>\n",
       "      <td>Rain Man</td>\n",
       "      <td>Barry Levinson</td>\n",
       "      <td>Dustin Hoffman, Tom Cruise, Valeria Golino, Ge...</td>\n",
       "      <td>United States</td>\n",
       "      <td>March 1, 2021</td>\n",
       "      <td>1988</td>\n",
       "      <td>R</td>\n",
       "      <td>134 min</td>\n",
       "      <td>Classic Movies, Dramas</td>\n",
       "      <td>Motivated by money, a selfish workaholic seeki...</td>\n",
       "    </tr>\n",
       "  </tbody>\n",
       "</table>\n",
       "</div>"
      ],
      "text/plain": [
       "     show_id   type     title              director  \\\n",
       "341     s342  Movie  Magnolia  Paul Thomas Anderson   \n",
       "1254   s1255  Movie  Rain Man        Barry Levinson   \n",
       "\n",
       "                                                   cast        country  \\\n",
       "341   John C. Reilly, Philip Baker Hall, Tom Cruise,...  United States   \n",
       "1254  Dustin Hoffman, Tom Cruise, Valeria Golino, Ge...  United States   \n",
       "\n",
       "          date_added  release_year rating duration  \\\n",
       "341   August 1, 2021          1999      R  189 min   \n",
       "1254   March 1, 2021          1988      R  134 min   \n",
       "\n",
       "                       listed_in  \\\n",
       "341   Dramas, Independent Movies   \n",
       "1254      Classic Movies, Dramas   \n",
       "\n",
       "                                            description  \n",
       "341   Through chance, history and divine interventio...  \n",
       "1254  Motivated by money, a selfish workaholic seeki...  "
      ]
     },
     "execution_count": 13,
     "metadata": {},
     "output_type": "execute_result"
    }
   ],
   "source": [
    "df[df['cast'].str.contains('Tom Cruise')]"
   ]
  },
  {
   "cell_type": "markdown",
   "id": "c63d7a9c",
   "metadata": {},
   "source": [
    "### Question:-4. List all the movies directed by director Christopher Nolan."
   ]
  },
  {
   "cell_type": "code",
   "execution_count": 14,
   "id": "4320267d",
   "metadata": {},
   "outputs": [
    {
     "data": {
      "text/html": [
       "<div>\n",
       "<style scoped>\n",
       "    .dataframe tbody tr th:only-of-type {\n",
       "        vertical-align: middle;\n",
       "    }\n",
       "\n",
       "    .dataframe tbody tr th {\n",
       "        vertical-align: top;\n",
       "    }\n",
       "\n",
       "    .dataframe thead th {\n",
       "        text-align: right;\n",
       "    }\n",
       "</style>\n",
       "<table border=\"1\" class=\"dataframe\">\n",
       "  <thead>\n",
       "    <tr style=\"text-align: right;\">\n",
       "      <th></th>\n",
       "      <th>show_id</th>\n",
       "      <th>type</th>\n",
       "      <th>title</th>\n",
       "      <th>director</th>\n",
       "      <th>cast</th>\n",
       "      <th>country</th>\n",
       "      <th>date_added</th>\n",
       "      <th>release_year</th>\n",
       "      <th>rating</th>\n",
       "      <th>duration</th>\n",
       "      <th>listed_in</th>\n",
       "      <th>description</th>\n",
       "    </tr>\n",
       "  </thead>\n",
       "  <tbody>\n",
       "    <tr>\n",
       "      <th>340</th>\n",
       "      <td>s341</td>\n",
       "      <td>Movie</td>\n",
       "      <td>Inception</td>\n",
       "      <td>Christopher Nolan</td>\n",
       "      <td>Leonardo DiCaprio, Joseph Gordon-Levitt, Ellio...</td>\n",
       "      <td>United States, United Kingdom</td>\n",
       "      <td>August 1, 2021</td>\n",
       "      <td>2010</td>\n",
       "      <td>PG-13</td>\n",
       "      <td>148 min</td>\n",
       "      <td>Action &amp; Adventure, Sci-Fi &amp; Fantasy, Thrillers</td>\n",
       "      <td>A troubled thief who extracts secrets from peo...</td>\n",
       "    </tr>\n",
       "  </tbody>\n",
       "</table>\n",
       "</div>"
      ],
      "text/plain": [
       "    show_id   type      title           director  \\\n",
       "340    s341  Movie  Inception  Christopher Nolan   \n",
       "\n",
       "                                                  cast  \\\n",
       "340  Leonardo DiCaprio, Joseph Gordon-Levitt, Ellio...   \n",
       "\n",
       "                           country      date_added  release_year rating  \\\n",
       "340  United States, United Kingdom  August 1, 2021          2010  PG-13   \n",
       "\n",
       "    duration                                        listed_in  \\\n",
       "340  148 min  Action & Adventure, Sci-Fi & Fantasy, Thrillers   \n",
       "\n",
       "                                           description  \n",
       "340  A troubled thief who extracts secrets from peo...  "
      ]
     },
     "execution_count": 14,
     "metadata": {},
     "output_type": "execute_result"
    }
   ],
   "source": [
    "df[df['director'] == 'Christopher Nolan']"
   ]
  },
  {
   "cell_type": "markdown",
   "id": "d8aa9426",
   "metadata": {},
   "source": [
    "### Question:-5. How many Movies got the 'TV-14' rating, in India ?"
   ]
  },
  {
   "cell_type": "code",
   "execution_count": 15,
   "id": "a85b2dd6",
   "metadata": {},
   "outputs": [
    {
     "data": {
      "text/plain": [
       "(526, 12)"
      ]
     },
     "execution_count": 15,
     "metadata": {},
     "output_type": "execute_result"
    }
   ],
   "source": [
    "df[(df['type'] == 'Movie') & (df['rating'] == 'TV-14') & (df['country'] == 'India')].shape"
   ]
  },
  {
   "cell_type": "markdown",
   "id": "2e244bb8",
   "metadata": {},
   "source": [
    "## Visulization"
   ]
  },
  {
   "cell_type": "markdown",
   "id": "5cf34116",
   "metadata": {},
   "source": [
    "### Question:-6. What is the distribution of content types (Movies vs. TV Shows) on Netflix?"
   ]
  },
  {
   "cell_type": "code",
   "execution_count": 16,
   "id": "b45c3bbc",
   "metadata": {},
   "outputs": [
    {
     "data": {
      "text/plain": [
       "Movie      6126\n",
       "TV Show    2664\n",
       "Name: type, dtype: int64"
      ]
     },
     "execution_count": 16,
     "metadata": {},
     "output_type": "execute_result"
    }
   ],
   "source": [
    "# Extract the \"type\" column\n",
    "content_type = df['type']\n",
    "\n",
    "# Count the occurrences of each content type\n",
    "count_content_type = content_type.value_counts()\n",
    "count_content_type"
   ]
  },
  {
   "cell_type": "code",
   "execution_count": 17,
   "id": "56d6553d",
   "metadata": {},
   "outputs": [
    {
     "data": {
      "image/png": "[encoded data removed]",
      "text/plain": [
       "<Figure size 432x288 with 1 Axes>"
      ]
     },
     "metadata": {
      "needs_background": "light"
     },
     "output_type": "display_data"
    }
   ],
   "source": [
    "# To Visualize the number of movies and TV shows available on Netflix \n",
    "ax = sns.countplot(x = 'type', data = df)\n",
    "\n",
    "#To add data lables in bar chart\n",
    "for content in ax.containers:\n",
    "    ax.bar_label(content)"
   ]
  },
  {
   "cell_type": "markdown",
   "id": "a562eee0",
   "metadata": {},
   "source": [
    "### Question:-7. Which countries produce the most content available on Netflix?"
   ]
  },
  {
   "cell_type": "code",
   "execution_count": 18,
   "id": "4b0b7471",
   "metadata": {},
   "outputs": [
    {
     "data": {
      "text/plain": [
       "United States     2809\n",
       "India              972\n",
       "Not Specified      829\n",
       "United Kingdom     418\n",
       "Japan              243\n",
       "South Korea        199\n",
       "Canada             181\n",
       "Spain              145\n",
       "France             124\n",
       "Mexico             110\n",
       "Name: country, dtype: int64"
      ]
     },
     "execution_count": 18,
     "metadata": {},
     "output_type": "execute_result"
    }
   ],
   "source": [
    "top_countries = df['country'].value_counts().head(10)\n",
    "top_countries"
   ]
  },
  {
   "cell_type": "code",
   "execution_count": 19,
   "id": "48229d11",
   "metadata": {},
   "outputs": [
    {
     "data": {
      "image/png": "[encoded data removed]",
      "text/plain": [
       "<Figure size 720x432 with 1 Axes>"
      ]
     },
     "metadata": {
      "needs_background": "light"
     },
     "output_type": "display_data"
    }
   ],
   "source": [
    "plt.figure(figsize=(10, 6))\n",
    "sns.countplot(data=df, y='country', order =df['country'].value_counts().index[0:10])\n",
    "plt.title('Top Countries Producing Content on Netflix')\n",
    "plt.xlabel('Count')\n",
    "plt.ylabel('Country')\n",
    "plt.show()"
   ]
  },
  {
   "cell_type": "markdown",
   "id": "11ab8b9f",
   "metadata": {},
   "source": [
    "### Question:-8. What are the most common content ratings on Netflix?"
   ]
  },
  {
   "cell_type": "code",
   "execution_count": 20,
   "id": "5012b9b5",
   "metadata": {},
   "outputs": [],
   "source": [
    "top_ratings = df['rating'].value_counts()"
   ]
  },
  {
   "cell_type": "code",
   "execution_count": 21,
   "id": "99f7a56d",
   "metadata": {},
   "outputs": [
    {
     "data": {
      "text/plain": [
       "TV-MA       3205\n",
       "TV-14       2157\n",
       "TV-PG        861\n",
       "R            799\n",
       "PG-13        490\n",
       "TV-Y7        333\n",
       "TV-Y         306\n",
       "PG           287\n",
       "TV-G         220\n",
       "NR            79\n",
       "G             41\n",
       "TV-Y7-FV       6\n",
       "NC-17          3\n",
       "UR             3\n",
       "Name: rating, dtype: int64"
      ]
     },
     "execution_count": 21,
     "metadata": {},
     "output_type": "execute_result"
    }
   ],
   "source": [
    "top_ratings"
   ]
  },
  {
   "cell_type": "code",
   "execution_count": 22,
   "id": "e0d7e575",
   "metadata": {},
   "outputs": [
    {
     "data": {
      "image/png": "[encoded data removed]",
      "text/plain": [
       "<Figure size 1080x576 with 1 Axes>"
      ]
     },
     "metadata": {
      "needs_background": "light"
     },
     "output_type": "display_data"
    }
   ],
   "source": [
    "plt.figure(figsize=(15, 8))\n",
    "top_ratings.plot(kind='bar', color='green')\n",
    "plt.title('Top Countries Producing Content on Netflix')\n",
    "plt.xlabel('Country')\n",
    "plt.ylabel('Count')\n",
    "plt.xticks(rotation=45)  # Rotate x-axis labels for better readability\n",
    "plt.show()"
   ]
  },
  {
   "cell_type": "code",
   "execution_count": 23,
   "id": "b8b22b12",
   "metadata": {},
   "outputs": [
    {
     "data": {
      "image/png": "[encoded data removed]",
      "text/plain": [
       "<Figure size 864x432 with 1 Axes>"
      ]
     },
     "metadata": {
      "needs_background": "light"
     },
     "output_type": "display_data"
    }
   ],
   "source": [
    "plt.figure(figsize = (12,6))\n",
    "sns.countplot(x = 'rating', order = df['rating'].value_counts().index[0:10], data = df)\n",
    "plt.title('Most common content ratings on Netflix')\n",
    "plt.show()"
   ]
  },
  {
   "cell_type": "markdown",
   "id": "10a1d779",
   "metadata": {},
   "source": [
    "*From the above graph we can see that Netflix has produced majority of the contents for Mature Audience*"
   ]
  },
  {
   "cell_type": "markdown",
   "id": "5d3228ab",
   "metadata": {},
   "source": [
    "### Question:-9. Which directors have the most titles on Netflix?"
   ]
  },
  {
   "cell_type": "code",
   "execution_count": 24,
   "id": "2dbedb7e",
   "metadata": {},
   "outputs": [
    {
     "data": {
      "text/plain": [
       "Not Specified             2621\n",
       "Rajiv Chilaka               19\n",
       "Raúl Campos, Jan Suter      18\n",
       "Suhas Kadav                 16\n",
       "Marcus Raboy                16\n",
       "Jay Karas                   14\n",
       "Cathy Garcia-Molina         13\n",
       "Martin Scorsese             12\n",
       "Jay Chapman                 12\n",
       "Youssef Chahine             12\n",
       "Name: director, dtype: int64"
      ]
     },
     "execution_count": 24,
     "metadata": {},
     "output_type": "execute_result"
    }
   ],
   "source": [
    "top_directors = df['director'].value_counts().head(10)\n",
    "top_directors\n",
    "\n",
    "#df.director.value_counts().head(10)       (This is the alternate way to find top_directors)"
   ]
  },
  {
   "cell_type": "markdown",
   "id": "1031a48e",
   "metadata": {},
   "source": [
    "### Question:-10. What are the top 20 years with the highest number of content releases (movies and TV shows combined) on Netflix?"
   ]
  },
  {
   "cell_type": "code",
   "execution_count": 25,
   "id": "f923a63b",
   "metadata": {},
   "outputs": [
    {
     "data": {
      "text/plain": [
       "2018    1146\n",
       "2017    1030\n",
       "2019    1030\n",
       "2020     953\n",
       "2016     901\n",
       "2021     592\n",
       "2015     555\n",
       "2014     352\n",
       "2013     286\n",
       "2012     236\n",
       "2010     192\n",
       "2011     185\n",
       "2009     152\n",
       "2008     135\n",
       "2006      96\n",
       "2007      88\n",
       "2005      80\n",
       "2004      64\n",
       "2003      59\n",
       "2002      51\n",
       "Name: release_year, dtype: int64"
      ]
     },
     "execution_count": 25,
     "metadata": {},
     "output_type": "execute_result"
    }
   ],
   "source": [
    "# Most of the Movies and TV shows released in 20 years\n",
    "top_20_years = df['release_year'].value_counts().head(20)\n",
    "top_20_years"
   ]
  },
  {
   "cell_type": "code",
   "execution_count": 26,
   "id": "dbc931b2",
   "metadata": {},
   "outputs": [
    {
     "data": {
      "image/png": "[encoded data removed]",
      "text/plain": [
       "<Figure size 1080x576 with 1 Axes>"
      ]
     },
     "metadata": {
      "needs_background": "light"
     },
     "output_type": "display_data"
    }
   ],
   "source": [
    "plt.figure(figsize = (15,8))\n",
    "sns.countplot(x = 'release_year', order = df['release_year'].value_counts().index[0:20], data = df)\n",
    "plt.title('Top 20 Years with the Most Content Releases on Netflix')\n",
    "plt.xlabel('Release Year')\n",
    "plt.ylabel('Number of Releases')\n",
    "plt.show()"
   ]
  },
  {
   "cell_type": "markdown",
   "id": "f319c739",
   "metadata": {},
   "source": [
    "## Conclusion"
   ]
  },
  {
   "cell_type": "markdown",
   "id": "72238810",
   "metadata": {},
   "source": [
    "\n",
    "* *Netflix produces content in multiple countries, with the United States being a significant contributor. It's essential to recognize the platform's global reach in terms of content production.\n",
    "* *The majority of content on Netflix falls under the TV-MA rating, indicating a focus on mature audiences. However, the platform also offers content suitable for a wide range of age groups.\n",
    "* *Content on Netflix has been released over several decades, with the most recent content releases dominating the platform.\n",
    "\n",
    "\n",
    "* Overall, Netflix offers a wide range of content and It is evdent from the EDA on netflix dataset the the growth of the netflix over the past year is increasing as we move forward"
   ]
  }
 ],
 "metadata": {
  "kernelspec": {
   "display_name": "Python 3 (ipykernel)",
   "language": "python",
   "name": "python3"
  },
  "language_info": {
   "codemirror_mode": {
    "name": "ipython",
    "version": 3
   },
   "file_extension": ".py",
   "mimetype": "text/x-python",
   "name": "python",
   "nbconvert_exporter": "python",
   "pygments_lexer": "ipython3",
   "version": "3.9.12"
  }
 },
 "nbformat": 4,
 "nbformat_minor": 5
}
